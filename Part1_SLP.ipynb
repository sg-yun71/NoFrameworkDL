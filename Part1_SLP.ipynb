{
 "cells": [
  {
   "cell_type": "code",
   "id": "initial_id",
   "metadata": {
    "collapsed": true,
    "ExecuteTime": {
     "end_time": "2024-12-24T05:45:07.076596Z",
     "start_time": "2024-12-24T05:45:07.071879Z"
    }
   },
   "source": [
    "import numpy as np\n",
    "import csv\n",
    "import time\n",
    "\n",
    "np.random.seed(1234)\n",
    "def randomize(): \n",
    "    np.random.seed(time.time())"
   ],
   "outputs": [],
   "execution_count": 28
  },
  {
   "metadata": {
    "ExecuteTime": {
     "end_time": "2024-12-25T04:23:23.919555Z",
     "start_time": "2024-12-25T04:23:23.914505Z"
    }
   },
   "cell_type": "code",
   "source": [
    "# 하이퍼파라미터값 정의\n",
    "RND_MEAN = 0 # 정규분포 난숫값의 평균\n",
    "RND_STD = 0.0030 # 정규분포 난숫값의 표준편차\n",
    "\n",
    "LEARNING_RATE = 0.001 # 학습률"
   ],
   "id": "8aac9126e9578719",
   "outputs": [],
   "execution_count": 42
  },
  {
   "metadata": {
    "ExecuteTime": {
     "end_time": "2024-12-25T04:24:05.068725Z",
     "start_time": "2024-12-25T04:24:05.065314Z"
    }
   },
   "cell_type": "code",
   "source": [
    "# 메인 함수 정의\n",
    "def abalone_exec(epch_count=10, mb_size=10, report=1):\n",
    "    load_abalone_dataset()\n",
    "    init_model()\n",
    "    train_and_test(epch_count, mb_size, report)"
   ],
   "id": "e9851b92eb5ec765",
   "outputs": [],
   "execution_count": 43
  },
  {
   "metadata": {
    "ExecuteTime": {
     "end_time": "2024-12-25T05:26:30.391310Z",
     "start_time": "2024-12-25T05:26:30.388377Z"
    }
   },
   "cell_type": "code",
   "source": [
    "# 데이터 적재 함수 정의\n",
    "def load_abalone_dataset():\n",
    "    with open('/Users/chungseong-yun/PycharmProjects/NoFrameworkDL/dataset/abalone.csv') as csvfile: \n",
    "        csvreader = csv.reader(csvfile)\n",
    "        next(csvreader, None) # 파일의 첫행을 건너뜀\n",
    "        rows = []\n",
    "        for row in csvreader: # 각 행에 담긴 전복 개체별 정보를 csvreader객체를 이용해 row리스트에 수집\n",
    "            rows.append(row)\n",
    "            \n",
    "    global data, input_cnt, output_cnt\n",
    "    input_cnt, output_cnt = 10, 1 # 각 변수에 입출력 벡터 크기를 각각 10과 1로 지정\n",
    "    data = np.zeros([len(rows), input_cnt+output_cnt]) # 전복 개체들의 입출력 벡터 정보를 저장할 data 행렬을 만들 때 크기 지정에 이용\n",
    "\n",
    "    for n, row in enumerate(rows):\n",
    "        if row[0] == 'I': data[n, 0] = 1 # 비선형인 성별정보를 웟핫 벡터로 변환\n",
    "        if row[0] == 'M': data[n, 1] = 1\n",
    "        if row[0] == 'F': data[n, 2] = 1\n",
    "        data[n, 3:] = row[1:] # 성별이외 값을 일괄 처리"
   ],
   "id": "ffb3f8d3b1262477",
   "outputs": [],
   "execution_count": 44
  },
  {
   "metadata": {
    "ExecuteTime": {
     "end_time": "2024-12-24T05:45:07.634207Z",
     "start_time": "2024-12-24T05:45:07.632006Z"
    }
   },
   "cell_type": "code",
   "source": [
    "# 파라미터 초기화 함수 \n",
    "def init_model():\n",
    "    global weight, bias, input_cnt, output_cnt\n",
    "    weight = np.random.normal(RND_MEAN, RND_STD,[input_cnt, output_cnt]) # 정규분포를 갖는 난숫값으로 초기화\n",
    "    bias = np.zeros([output_cnt])"
   ],
   "id": "9e5a04a7edbce661",
   "outputs": [],
   "execution_count": 32
  },
  {
   "metadata": {
    "ExecuteTime": {
     "end_time": "2024-12-24T05:45:07.753780Z",
     "start_time": "2024-12-24T05:45:07.750532Z"
    }
   },
   "cell_type": "code",
   "source": [
    "# 학습 및 평가 함수 \n",
    "def train_and_test(epoch_count, mb_size, report):\n",
    "    step_count = arrange_data(mb_size)\n",
    "    test_x, test_y = get_test_data()\n",
    "    \n",
    "    for epoch in range(epoch_count):\n",
    "        losses, accs = [], []\n",
    "        \n",
    "        for n in range(step_count):\n",
    "            train_x, train_y = get_train_data(mb_size, n)\n",
    "            loss, acc = run_train(train_x, train_y)\n",
    "            losses.append(loss)\n",
    "            accs.append(acc)\n",
    "            \n",
    "        if report > 0 and (epoch+1) % report == 0:\n",
    "            acc = run_test(test_x, test_y)\n",
    "            print('Epoch {}: loss={:5.3f}, accuracy={:5.3f}/{:5.3f}'. \\\n",
    "                  format(epoch+1, np.mean(losses), np.mean(accs), acc))\n",
    "            \n",
    "    final_acc = run_test(test_x, test_y)\n",
    "    print('\\nFinal Test: final accuracy = {:5.3f}'.format(final_acc))"
   ],
   "id": "856701d9eacaf545",
   "outputs": [],
   "execution_count": 33
  },
  {
   "metadata": {
    "ExecuteTime": {
     "end_time": "2024-12-24T05:45:07.907797Z",
     "start_time": "2024-12-24T05:45:07.905359Z"
    }
   },
   "cell_type": "code",
   "source": [
    "# 학습 및 평가 데이터 획득 함수\n",
    "def arrange_data(mb_size):\n",
    "    global data, shuffle_map, test_begin_idx\n",
    "    shuffle_map = np.arange(data.shape[0])\n",
    "    np.random.shuffle(shuffle_map)\n",
    "    step_count = int(data.shape[0] * 0.8) // mb_size\n",
    "    test_begin_idx = step_count * mb_size\n",
    "    return step_count\n",
    "\n",
    "def get_test_data():\n",
    "    global data, shuffle_map, test_begin_idx, output_cnt\n",
    "    test_data = data[shuffle_map[test_begin_idx:]]\n",
    "    return test_data[:, :-output_cnt], test_data[:, -output_cnt:]\n",
    "\n",
    "def get_train_data(mb_size, nth):\n",
    "    global data, shuffle_map, test_begin_idx, output_cnt\n",
    "    if nth == 0:\n",
    "        np.random.shuffle(shuffle_map[:test_begin_idx])\n",
    "    train_data = data[shuffle_map[mb_size*nth:mb_size*(nth+1)]]\n",
    "    return train_data[:, :-output_cnt], train_data[:, -output_cnt:]"
   ],
   "id": "a702cddc1539f47",
   "outputs": [],
   "execution_count": 34
  },
  {
   "metadata": {
    "ExecuteTime": {
     "end_time": "2024-12-24T05:45:08.061075Z",
     "start_time": "2024-12-24T05:45:08.058477Z"
    }
   },
   "cell_type": "code",
   "source": [
    "# 학습 실행 함수와 평가 실행 함수\n",
    "def run_train(x, y):\n",
    "    output, aux_nn = forward_neuralnet(x)\n",
    "    loss, aux_pp = forward_postproc(output, y)\n",
    "    accuracy = eval_accuracy(output, y)\n",
    "    \n",
    "    G_loss = 1.0\n",
    "    G_output = backprop_postproc(G_loss, aux_pp)\n",
    "    backprop_neuralnet(G_output, aux_nn)\n",
    "    \n",
    "    return loss, accuracy\n",
    "\n",
    "def run_test(x, y):\n",
    "    output, _ = forward_neuralnet(x)\n",
    "    accuracy = eval_accuracy(output, y)\n",
    "    return accuracy"
   ],
   "id": "6fbef0088cf599e0",
   "outputs": [],
   "execution_count": 35
  },
  {
   "metadata": {
    "ExecuteTime": {
     "end_time": "2024-12-24T05:45:08.192576Z",
     "start_time": "2024-12-24T05:45:08.189711Z"
    }
   },
   "cell_type": "code",
   "source": [
    "# 단층 퍼셉트론에 대한 순전파 및 역전파 함수 정의\n",
    "def forward_neuralnet(x):\n",
    "    global weight, bias\n",
    "    output = np.matmul(x, weight) + bias\n",
    "    return output, x\n",
    "\n",
    "def backprop_neuralnet(G_output, x):\n",
    "    global weight, bias\n",
    "    g_output_w = x.transpose()\n",
    "    \n",
    "    G_w = np.matmul(g_output_w, G_output)\n",
    "    G_b = np.sum(G_output, axis=0)\n",
    "\n",
    "    weight -= LEARNING_RATE * G_w\n",
    "    bias -= LEARNING_RATE * G_b"
   ],
   "id": "3ed0e0003e3d9ca4",
   "outputs": [],
   "execution_count": 36
  },
  {
   "metadata": {
    "ExecuteTime": {
     "end_time": "2024-12-24T05:45:08.356181Z",
     "start_time": "2024-12-24T05:45:08.353667Z"
    }
   },
   "cell_type": "code",
   "source": [
    "# 후처리 과정에 대한 순전파 및 역전파 함수 \n",
    "def forward_postproc(output, y):\n",
    "    diff = output - y\n",
    "    square = np.square(diff)\n",
    "    loss = np.mean(square)\n",
    "    return loss, diff\n",
    "\n",
    "def backprop_postproc(G_loss, diff):\n",
    "    shape = diff.shape\n",
    "    \n",
    "    g_loss_square = np.ones(shape) / np.prod(shape)\n",
    "    g_square_diff = 2 * diff\n",
    "    g_diff_output = 1\n",
    "\n",
    "    G_square = g_loss_square * G_loss\n",
    "    G_diff = g_square_diff * G_square\n",
    "    G_output = g_diff_output * G_diff\n",
    "    \n",
    "    return G_output"
   ],
   "id": "3a5a6eb9e88186b",
   "outputs": [],
   "execution_count": 37
  },
  {
   "metadata": {
    "ExecuteTime": {
     "end_time": "2024-12-24T05:45:08.475171Z",
     "start_time": "2024-12-24T05:45:08.473218Z"
    }
   },
   "cell_type": "code",
   "source": [
    "def backprop_postproc_oneline(G_loss, diff):  # backprop_postproc() 대신 사용 가능\n",
    "    return 2 * diff / np.prod(diff.shape)"
   ],
   "id": "fd077ec388ae429d",
   "outputs": [],
   "execution_count": 38
  },
  {
   "metadata": {
    "ExecuteTime": {
     "end_time": "2024-12-24T05:45:08.680302Z",
     "start_time": "2024-12-24T05:45:08.677873Z"
    }
   },
   "cell_type": "code",
   "source": [
    "# 정확도 계산 함수\n",
    "def eval_accuracy(output, y):\n",
    "    mdiff = np.mean(np.abs((output - y)/y))\n",
    "    return 1 - mdiff"
   ],
   "id": "872909ee08639da7",
   "outputs": [],
   "execution_count": 39
  },
  {
   "metadata": {},
   "cell_type": "code",
   "outputs": [],
   "execution_count": null,
   "source": "",
   "id": "2e669628d2071540"
  }
 ],
 "metadata": {
  "kernelspec": {
   "display_name": "Python 3",
   "language": "python",
   "name": "python3"
  },
  "language_info": {
   "codemirror_mode": {
    "name": "ipython",
    "version": 2
   },
   "file_extension": ".py",
   "mimetype": "text/x-python",
   "name": "python",
   "nbconvert_exporter": "python",
   "pygments_lexer": "ipython2",
   "version": "2.7.6"
  }
 },
 "nbformat": 4,
 "nbformat_minor": 5
}
